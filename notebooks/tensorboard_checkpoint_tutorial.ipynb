{
 "cells": [
  {
   "cell_type": "markdown",
   "metadata": {},
   "source": [
    "# TensorBoard and Model Checkpointing Tutorial\n",
    "\n",
    "## Objetivo\n",
    "Este notebook demuestra cómo usar TensorBoard para monitorear métricas y cómo implementar checkpointing durante el entrenamiento de modelos de machine learning."
   ]
  },
  {
   "cell_type": "code",
   "execution_count": null,
   "metadata": {},
   "source": [
    "# Instalación de librerías requeridas\n",
    "!pip install torch torchvision tensorboard"
   ],
   "outputs": []
  },
  {
   "cell_type": "code",
   "execution_count": null,
   "metadata": {},
   "source": [
    "import torch\n",
    "import torch.nn as nn\n",
    "import torch.optim as optim\n",
    "from torch.utils.tensorboard import SummaryWriter\n",
    "import os"
   ],
   "outputs": []
  },
  {
   "cell_type": "code",
   "execution_count": null,
   "metadata": {},
   "source": [
    "# Definir un modelo de ejemplo (Red neuronal simple)\n",
    "class SimpleModel(nn.Module):\n",
    "    def __init__(self):\n",
    "        super(SimpleModel, self).__init__()\n",
    "        self.linear_stack = nn.Sequential(\n",
    "            nn.Linear(10, 20),\n",
    "            nn.ReLU(),\n",
    "            nn.Linear(20, 5)\n",
    "        )\n",
    "    \n",
    "    def forward(self, x):\n",
    "        return self.linear_stack(x)"
   ],
   "outputs": []
  },
  {
   "cell_type": "code",
   "execution_count": null,
   "metadata": {},
   "source": [
    "# Configuración de TensorBoard\n",
    "writer = SummaryWriter('runs/experiment_1')\n",
    "\n",
    "# Crear directorios para checkpoints\n",
    "os.makedirs('checkpoints', exist_ok=True)"
   ],
   "outputs": []
  },
  {
   "cell_type": "code",
   "execution_count": null,
   "metadata": {},
   "source": [
    "# Función de entrenamiento con TensorBoard y Checkpointing\n",
    "def train_model(model, epochs=100):\n",
    "    # Configurar pérdida y optimizador\n",
    "    criterion = nn.MSELoss()\n",
    "    optimizer = optim.Adam(model.parameters(), lr=0.01)\n",
    "    \n",
    "    # Simular datos de entrenamiento\n",
    "    for epoch in range(epochs):\n",
    "        # Generar datos de ejemplo\n",
    "        inputs = torch.randn(32, 10)\n",
    "        targets = torch.randn(32, 5)\n",
    "        \n",
    "        # Paso de entrenamiento\n",
    "        optimizer.zero_grad()\n",
    "        outputs = model(inputs)\n",
    "        loss = criterion(outputs, targets)\n",
    "        loss.backward()\n",
    "        optimizer.step()\n",
    "        \n",
    "        # Registrar métricas en TensorBoard\n",
    "        writer.add_scalar('Training Loss', loss.item(), epoch)\n",
    "        writer.add_histogram('Model Weights', model.linear_stack[0].weight, epoch)\n",
    "        \n",
    "        # Guardar checkpoint cada 10 épocas\n",
    "        if epoch % 10 == 0:\n",
    "            checkpoint = {\n",
    "                'epoch': epoch,\n",
    "                'model_state_dict': model.state_dict(),\n",
    "                'optimizer_state_dict': optimizer.state_dict(),\n",
    "                'loss': loss.item()\n",
    "            }\n",
    "            torch.save(checkpoint, f'checkpoints/model_checkpoint_epoch_{epoch}.pth')\n",
    "    \n",
    "    # Cerrar el escritor de TensorBoard\n",
    "    writer.close()"
   ],
   "outputs": []
  },
  {
   "cell_type": "code",
   "execution_count": null,
   "metadata": {},
   "source": [
    "# Inicializar y entrenar el modelo\n",
    "model = SimpleModel()\n",
    "train_model(model)"
   ],
   "outputs": []
  },
  {
   "cell_type": "code",
   "execution_count": null,
   "metadata": {},
   "source": [
    "# Cargar un checkpoint\n",
    "def load_checkpoint(checkpoint_path):\n",
    "    checkpoint = torch.load(checkpoint_path)\n",
    "    model = SimpleModel()\n",
    "    model.load_state_dict(checkpoint['model_state_dict'])\n",
    "    \n",
    "    optimizer = optim.Adam(model.parameters())\n",
    "    optimizer.load_state_dict(checkpoint['optimizer_state_dict'])\n",
    "    \n",
    "    print(f\"Loaded checkpoint from epoch {checkpoint['epoch']}\")\n",
    "    print(f\"Last training loss: {checkpoint['loss']}\")\n",
    "    \n",
    "    return model, optimizer"
   ],
   "outputs": []
  },
  {
   "cell_type": "code",
   "execution_count": null,
   "metadata": {},
   "source": [
    "# Ejemplo de cómo iniciar TensorBoard\n",
    "print(\"Para iniciar TensorBoard, ejecuta en la terminal:\")\n",
    "print(\"tensorboard --logdir=runs\")"
   ],
   "outputs": []
  },
  {
   "cell_type": "markdown",
   "metadata": {},
   "source": [
    "## Pasos para usar TensorBoard\n",
    "\n",
    "1. Instalar TensorBoard: `pip install tensorboard`\n",
    "2. Ejecutar en terminal: `tensorboard --logdir=runs`\n",
    "3. Abrir el navegador en: `http://localhost:6006`\n",
    "\n",
    "## Beneficios de Checkpointing\n",
    "- Guardar progreso de entrenamiento\n",
    "- Reanudar entrenamiento desde un punto específico\n",
    "- Proteger contra fallos o interrupciones"
   ]
  }
 ],
 "metadata": {
  "kernelspec": {
   "display_name": "Python 3",
   "language": "python",
   "name": "python3"
  },
  "language_info": {
   "name": "python",
   "version": "3.8.5"
  }
 },
 "nbformat": 4,
 "nbformat_minor": 4
}